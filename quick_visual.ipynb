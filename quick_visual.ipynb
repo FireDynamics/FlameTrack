{
 "cells": [
  {
   "cell_type": "code",
   "execution_count": 2,
   "outputs": [
    {
     "ename": "ImportError",
     "evalue": "cannot import name 'dewarp_data' from 'flamespread' (/Users/tam/PycharmProjects/IR-Reader/flamespread.py)",
     "output_type": "error",
     "traceback": [
      "\u001B[0;31m---------------------------------------------------------------------------\u001B[0m",
      "\u001B[0;31mImportError\u001B[0m                               Traceback (most recent call last)",
      "Input \u001B[0;32mIn [2]\u001B[0m, in \u001B[0;36m<cell line: 3>\u001B[0;34m()\u001B[0m\n\u001B[1;32m      1\u001B[0m \u001B[38;5;28;01mimport\u001B[39;00m \u001B[38;5;21;01mdataset_handler\u001B[39;00m\n\u001B[1;32m      2\u001B[0m \u001B[38;5;28;01mimport\u001B[39;00m \u001B[38;5;21;01mprogressbar\u001B[39;00m\n\u001B[0;32m----> 3\u001B[0m \u001B[38;5;28;01mfrom\u001B[39;00m \u001B[38;5;21;01mflamespread\u001B[39;00m \u001B[38;5;28;01mimport\u001B[39;00m dewarp_data\n",
      "\u001B[0;31mImportError\u001B[0m: cannot import name 'dewarp_data' from 'flamespread' (/Users/tam/PycharmProjects/IR-Reader/flamespread.py)"
     ]
    }
   ],
   "source": [
    "import dataset_handler\n",
    "import progressbar\n",
    "from IR_analysis import dewarp_data"
   ],
   "metadata": {
    "collapsed": false,
    "ExecuteTime": {
     "end_time": "2024-05-31T14:18:03.974039Z",
     "start_time": "2024-05-31T14:18:00.803573Z"
    }
   },
   "id": "ebbf2f68bc5a6c5b"
  },
  {
   "cell_type": "code",
   "execution_count": null,
   "id": "initial_id",
   "metadata": {
    "collapsed": true,
    "ExecuteTime": {
     "end_time": "2024-05-31T14:18:03.981677Z",
     "start_time": "2024-05-31T14:18:03.974978Z"
    }
   },
   "outputs": [],
   "source": [
    "def dewarp_exp(exp_name, data, frequency = 10):\n",
    "    dset = dataset_handler.get_file(exp_name, 'a')['dewarped_data']['data']\n",
    "    metadata = dataset_handler.get_dewarped_metadata(exp_name)\n",
    "    data_numbers = data.data_numbers\n",
    "    dewarp_params = {}\n",
    "    # grp.attrs['transformation_matrix'] = dewarp_params['transformation_matrix']\n",
    "    # grp.attrs['target_pixels_width'] = dewarp_params['target_pixels_width']\n",
    "    # grp.attrs['target_pixels_height'] = dewarp_params['target_pixels_height']\n",
    "    # grp.attrs['target_ratio'] = TARGET_RATIO\n",
    "    # grp.attrs['selected_points'] = selected_points\n",
    "    # grp.attrs['frame_range'] = (start, end)\n",
    "    start, end = metadata['frame_range']\n",
    "    dset_w = metadata['target_pixels_width']\n",
    "    dset_h = metadata['target_pixels_height']\n",
    "    dewarp_params['transformation_matrix'] = metadata['transformation_matrix']\n",
    "    dewarp_params['target_pixels_width'] = metadata['target_pixels_width']\n",
    "    dewarp_params['target_pixels_height'] = metadata['target_pixels_height']\n",
    "    dewarp_params['target_ratio'] = metadata['target_ratio']\n",
    "    dewarp_params['selected_points'] = metadata['selected_points']\n",
    "    dewarp_params['frame_range'] = metadata['frame_range']\n",
    "    bar = progressbar.ProgressBar(max_value=end - start)\n",
    "    for i, idx in bar(enumerate(data_numbers[start:end:frequency])):\n",
    "        img = data.get_frame(idx)\n",
    "        dewarped_data = dewarp_data(img, dewarp_params)\n",
    "        dset.resize((dset_h, dset_w, i + 1))\n",
    "        dset[:, :, i] = dewarped_data\n",
    "\n",
    "    dataset_handler.close_file()\n"
   ]
  },
  {
   "cell_type": "code",
   "execution_count": null,
   "outputs": [],
   "source": [],
   "metadata": {
    "collapsed": false
   },
   "id": "4328f3fa15ebdec"
  }
 ],
 "metadata": {
  "kernelspec": {
   "display_name": "Python 3",
   "language": "python",
   "name": "python3"
  },
  "language_info": {
   "codemirror_mode": {
    "name": "ipython",
    "version": 2
   },
   "file_extension": ".py",
   "mimetype": "text/x-python",
   "name": "python",
   "nbconvert_exporter": "python",
   "pygments_lexer": "ipython2",
   "version": "2.7.6"
  }
 },
 "nbformat": 4,
 "nbformat_minor": 5
}
