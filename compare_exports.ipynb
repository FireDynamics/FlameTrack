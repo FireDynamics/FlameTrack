{
 "cells": [
  {
   "cell_type": "code",
   "execution_count": 1,
   "outputs": [],
   "source": [
    "import os\n",
    "\n",
    "import numpy as np\n",
    "\n",
    "from DataTypes import read_IR_data\n",
    "import progressbar"
   ],
   "metadata": {
    "collapsed": false,
    "ExecuteTime": {
     "end_time": "2024-06-04T13:31:05.492400Z",
     "start_time": "2024-06-04T13:31:04.638328Z"
    }
   },
   "id": "fac227e97d76d4b5"
  },
  {
   "cell_type": "code",
   "execution_count": 2,
   "id": "initial_id",
   "metadata": {
    "collapsed": true,
    "ExecuteTime": {
     "end_time": "2024-06-04T13:31:05.492778Z",
     "start_time": "2024-06-04T13:31:05.482083Z"
    }
   },
   "outputs": [],
   "source": [
    "path_one_export = '/Volumes/Revoltec3TB/RST_062024/PMMA_DE_6mm_RCE_1m_R1'\n",
    "path_mult_export ='/Volumes/Revoltec3TB/RST_042024/Export'"
   ]
  },
  {
   "cell_type": "code",
   "execution_count": 3,
   "outputs": [],
   "source": [
    "folders = os.listdir(path_mult_export)"
   ],
   "metadata": {
    "collapsed": false,
    "ExecuteTime": {
     "end_time": "2024-06-04T13:31:05.538015Z",
     "start_time": "2024-06-04T13:31:05.485714Z"
    }
   },
   "id": "3c424a5a67913cea"
  },
  {
   "cell_type": "code",
   "execution_count": 4,
   "outputs": [],
   "source": [
    "total = folders.pop(4)"
   ],
   "metadata": {
    "collapsed": false,
    "ExecuteTime": {
     "end_time": "2024-06-04T13:31:05.538281Z",
     "start_time": "2024-06-04T13:31:05.533200Z"
    }
   },
   "id": "9fae62a0c2f09674"
  },
  {
   "cell_type": "code",
   "execution_count": 5,
   "outputs": [
    {
     "data": {
      "text/plain": "'LFS_CN_6mm_R1_total'"
     },
     "execution_count": 5,
     "metadata": {},
     "output_type": "execute_result"
    }
   ],
   "source": [
    "total"
   ],
   "metadata": {
    "collapsed": false,
    "ExecuteTime": {
     "end_time": "2024-06-04T13:31:05.549636Z",
     "start_time": "2024-06-04T13:31:05.545261Z"
    }
   },
   "id": "fee59bdf4ee9c6a4"
  },
  {
   "cell_type": "code",
   "execution_count": 7,
   "outputs": [
    {
     "name": "stderr",
     "output_type": "stream",
     "text": [
      "  0% (0 of 10) |                         | Elapsed Time: 0:00:00 ETA:  --:--:--"
     ]
    },
    {
     "name": "stdout",
     "output_type": "stream",
     "text": [
      "lfs_pmma_CN_6mm_tc_R1_0004_002.csv is not equal in LFS_CN_6mm_R1_02\n"
     ]
    },
    {
     "name": "stderr",
     "output_type": "stream",
     "text": [
      "100% (10 of 10) |########################| Elapsed Time: 0:00:12 Time:  0:00:12\n",
      "  0% (0 of 10) |                         | Elapsed Time: 0:00:00 ETA:  --:--:--"
     ]
    },
    {
     "name": "stdout",
     "output_type": "stream",
     "text": [
      "lfs_pmma_CN_6mm_tc_R1_0003_0002.csv is not equal in LFS_CN_6mm_R1_01\n",
      "lfs_pmma_CN_6mm_tc_R1_0004_591.csv is not equal in LFS_CN_6mm_R1_04\n"
     ]
    }
   ],
   "source": [
    "\n",
    "for folder in folders:\n",
    "    folder_path=os.path.join(path_mult_export,folder)\n",
    "    bar = progressbar.ProgressBar()\n",
    "    files = os.listdir(folder_path)\n",
    "    files.sort()\n",
    "    for file in bar(files[-10:]):\n",
    "        path1 =os.path.join(folder_path,file)\n",
    "        data1 = read_IR_data(path1)\n",
    "        \n",
    "        path2 =os.path.join(path_mult_export,total,file)\n",
    "        data2 = read_IR_data(path2)\n",
    "        \n",
    "        if not np.array_equal(data1,data2):\n",
    "            print(f'{file} is not equal in {folder}')\n",
    "            break\n",
    "        \n",
    "        "
   ],
   "metadata": {
    "collapsed": false,
    "ExecuteTime": {
     "end_time": "2024-06-04T13:36:38.077547Z",
     "start_time": "2024-06-04T13:36:01.668612Z"
    }
   },
   "id": "b25f6be29436d8f2"
  },
  {
   "cell_type": "code",
   "execution_count": null,
   "outputs": [],
   "source": [
    "data1"
   ],
   "metadata": {
    "collapsed": false,
    "ExecuteTime": {
     "end_time": "2024-06-04T13:33:48.209681Z",
     "start_time": "2024-06-04T13:33:48.200946Z"
    }
   },
   "id": "7418fb00adabafe8"
  },
  {
   "cell_type": "code",
   "execution_count": null,
   "outputs": [],
   "source": [
    "data2"
   ],
   "metadata": {
    "collapsed": false,
    "ExecuteTime": {
     "start_time": "2024-06-04T13:33:48.206179Z"
    }
   },
   "id": "14af39b3f2a360a"
  },
  {
   "cell_type": "code",
   "execution_count": null,
   "outputs": [],
   "source": [
    "path1\n"
   ],
   "metadata": {
    "collapsed": false,
    "ExecuteTime": {
     "start_time": "2024-06-04T13:33:48.208342Z"
    }
   },
   "id": "c4706371221e6c01"
  },
  {
   "cell_type": "code",
   "execution_count": null,
   "outputs": [],
   "source": [
    "path2"
   ],
   "metadata": {
    "collapsed": false,
    "ExecuteTime": {
     "start_time": "2024-06-04T13:33:48.210830Z"
    }
   },
   "id": "ac423fe075de87b3"
  },
  {
   "cell_type": "code",
   "execution_count": null,
   "outputs": [],
   "source": [
    "data1 = read_IR_data(path1)"
   ],
   "metadata": {
    "collapsed": false,
    "ExecuteTime": {
     "start_time": "2024-06-04T13:33:48.214388Z"
    }
   },
   "id": "e656c927fc247d1d"
  },
  {
   "cell_type": "code",
   "execution_count": null,
   "outputs": [],
   "source": [
    "data2= read_IR_data(path2)"
   ],
   "metadata": {
    "collapsed": false,
    "ExecuteTime": {
     "start_time": "2024-06-04T13:33:48.218330Z"
    }
   },
   "id": "b1103e88c8b29801"
  },
  {
   "cell_type": "code",
   "execution_count": null,
   "outputs": [],
   "source": [
    "np.array_equal(data1,data2)"
   ],
   "metadata": {
    "collapsed": false,
    "ExecuteTime": {
     "start_time": "2024-06-04T13:33:48.221124Z"
    }
   },
   "id": "469478da109a1390"
  },
  {
   "cell_type": "code",
   "execution_count": null,
   "outputs": [],
   "source": [
    "data1 == data2"
   ],
   "metadata": {
    "collapsed": false,
    "ExecuteTime": {
     "start_time": "2024-06-04T13:33:48.222824Z"
    }
   },
   "id": "6d103a32118d826"
  },
  {
   "cell_type": "code",
   "execution_count": null,
   "outputs": [],
   "source": [
    "np.argmin(data1 == data2)"
   ],
   "metadata": {
    "collapsed": false,
    "ExecuteTime": {
     "start_time": "2024-06-04T13:33:48.224583Z"
    }
   },
   "id": "ec1633b93909c3c5"
  },
  {
   "cell_type": "code",
   "execution_count": null,
   "outputs": [],
   "source": [
    "data1.flatten()[1020:1030] "
   ],
   "metadata": {
    "collapsed": false,
    "ExecuteTime": {
     "end_time": "2024-06-04T13:33:48.241686Z",
     "start_time": "2024-06-04T13:33:48.226331Z"
    }
   },
   "id": "15d058e7d4056470"
  },
  {
   "cell_type": "code",
   "execution_count": null,
   "outputs": [],
   "source": [
    "data2.flatten()[1024]"
   ],
   "metadata": {
    "collapsed": false,
    "ExecuteTime": {
     "start_time": "2024-06-04T13:33:48.228259Z"
    }
   },
   "id": "c71f7ad4a6b530cc"
  },
  {
   "cell_type": "code",
   "execution_count": null,
   "outputs": [],
   "source": [],
   "metadata": {
    "collapsed": false
   },
   "id": "2f23ddddc155a9bc"
  }
 ],
 "metadata": {
  "kernelspec": {
   "display_name": "Python 3",
   "language": "python",
   "name": "python3"
  },
  "language_info": {
   "codemirror_mode": {
    "name": "ipython",
    "version": 2
   },
   "file_extension": ".py",
   "mimetype": "text/x-python",
   "name": "python",
   "nbconvert_exporter": "python",
   "pygments_lexer": "ipython2",
   "version": "2.7.6"
  }
 },
 "nbformat": 4,
 "nbformat_minor": 5
}
